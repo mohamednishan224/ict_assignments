{
  "nbformat": 4,
  "nbformat_minor": 0,
  "metadata": {
    "colab": {
      "provenance": [],
      "authorship_tag": "ABX9TyMhH6QE09k7H904OjMLcF1R",
      "include_colab_link": true
    },
    "kernelspec": {
      "name": "python3",
      "display_name": "Python 3"
    },
    "language_info": {
      "name": "python"
    }
  },
  "cells": [
    {
      "cell_type": "markdown",
      "metadata": {
        "id": "view-in-github",
        "colab_type": "text"
      },
      "source": [
        "<a href=\"https://colab.research.google.com/github/mohamednishan224/ict_assignments/blob/main/assignment01_nishan.ipynb\" target=\"_parent\"><img src=\"https://colab.research.google.com/assets/colab-badge.svg\" alt=\"Open In Colab\"/></a>"
      ]
    },
    {
      "cell_type": "code",
      "execution_count": null,
      "metadata": {
        "colab": {
          "base_uri": "https://localhost:8080/"
        },
        "id": "Mn5o_S6AVUIM",
        "outputId": "e61cd311-e54c-4f8c-d9b7-1bee18ebd908"
      },
      "outputs": [
        {
          "output_type": "stream",
          "name": "stdout",
          "text": [
            "grocerry billing\n",
            "195\n"
          ]
        }
      ],
      "source": [
        "#1\n",
        "'''A shopkeeper wants to calculate the total bill for two items. Write a program that takes\n",
        "the price and quantity of each item and prints the total bill amount.\n",
        "Sample Input:\n",
        "Item1 price: 45\n",
        "Item1 quantity: 3\n",
        "Item2 price: 30\n",
        "Item2 quantity: 2'''\n",
        "\n",
        "print(\"grocerry billing\")\n",
        "item_1 = 45\n",
        "item_2 = 30\n",
        "\n",
        "quantity_1 = item_1*3\n",
        "quantity_2 = item_2*2\n",
        "\n",
        "total_bill = quantity_1 + quantity_2\n",
        "print(total_bill)"
      ]
    },
    {
      "cell_type": "code",
      "source": [
        "\n",
        "#2\n",
        "'''Write a program to convert temperature from Celsius to Fahrenheit using the formula °F\n",
        "= (°C × 9/5) + 32.\n",
        "Sample Input:\n",
        "Enter temperature in Celsius: 30\n",
        "Sample Output:\n",
        "Temperature in Fahrenheit: 86.0'''\n",
        "\n",
        "print(\"temperature converstion\")\n",
        "cel = float(input(\"enter temperature in celsius\"))\n",
        "faren = (cel*9/5)+32\n",
        "print(faren)"
      ],
      "metadata": {
        "colab": {
          "base_uri": "https://localhost:8080/"
        },
        "id": "hqpdgmzxZo8N",
        "outputId": "30784485-d51f-4fed-8a64-12dc59c7ff03"
      },
      "execution_count": null,
      "outputs": [
        {
          "output_type": "stream",
          "name": "stdout",
          "text": [
            "temperature converstion\n",
            "enter temperature in celsius30\n",
            "86.0\n"
          ]
        }
      ]
    },
    {
      "cell_type": "code",
      "source": [
        "#3\n",
        "\n",
        "'''Given the basic salary of an employee, calculate the total salary including HRA (20%) and\n",
        "DA (10%).\n",
        "Sample Input:\n",
        "Enter basic salary: 20000\n",
        "Sample Output:\n",
        "Net Salary: 26000.0'''\n",
        "\n",
        "salary = int(input(\"enter your salary:\"))\n",
        "salary_hra = salary*20/100 + salary\n",
        "salary_d = salary_hra*10/100 +salary\n",
        "print(salary_d)"
      ],
      "metadata": {
        "colab": {
          "base_uri": "https://localhost:8080/"
        },
        "id": "z-BJirEfcvAp",
        "outputId": "7bf690a6-6a0b-4809-8b8b-1477fc6bc445"
      },
      "execution_count": null,
      "outputs": [
        {
          "output_type": "stream",
          "name": "stdout",
          "text": [
            "enter your salary:10000\n",
            "11200.0\n"
          ]
        }
      ]
    },
    {
      "cell_type": "code",
      "source": [
        "#4\n",
        "print(\"Intrest Calculator\")\n",
        "p = int(input(\"Enter principal:\"))\n",
        "r = float(input('Enter Rate of intrest:'))\n",
        "t = int(input(\"Time(in years):\"))\n",
        "\n",
        "si = (p*r*t)/100\n",
        "print(si)"
      ],
      "metadata": {
        "colab": {
          "base_uri": "https://localhost:8080/"
        },
        "id": "12q6wZd4eLPX",
        "outputId": "5703c9ae-f4a2-4aaf-dac6-906f4dabc5d9"
      },
      "execution_count": null,
      "outputs": [
        {
          "output_type": "stream",
          "name": "stdout",
          "text": [
            "Intrest Calculator\n",
            "Enter principal:10000\n",
            "Enter Rate of intrest:5\n",
            "Time(in years):2\n",
            "1000.0\n"
          ]
        }
      ]
    },
    {
      "cell_type": "code",
      "source": [
        "#5\n",
        "print(\"Time conversion\")\n",
        "minutes = float(input(\"Enter total input:\"))\n",
        "hours = minutes/60\n",
        "print(hours)"
      ],
      "metadata": {
        "colab": {
          "base_uri": "https://localhost:8080/"
        },
        "id": "-yzU3OyRiP9q",
        "outputId": "7fc2b652-3024-498a-aeca-8c185ea3a7ec"
      },
      "execution_count": null,
      "outputs": [
        {
          "output_type": "stream",
          "name": "stdout",
          "text": [
            "Time conversion\n",
            "Enter total input:60\n",
            "1.0\n"
          ]
        }
      ]
    },
    {
      "cell_type": "code",
      "source": [
        "#6\n",
        "'''Write a program to calculate the Body Mass Index (BMI) using the formula: BMI\n",
        "weight(kg) / (height(m) × height(m))\n",
        "Sample Input:\n",
        "Weight: 60\n",
        "Height: 1.65\n",
        "Sample Output:\n",
        "BMI = 22.04'''\n",
        "\n",
        "print('BMI Calculator')\n",
        "weight = int(input(\"Enter weight(in kg):\"))\n",
        "Height = int(input(\"Enter height(in mtr):\"))\n",
        "\n",
        "bmi = weight / (Height*weight)\n",
        "print('Your bmi is',bmi)\n",
        "\n"
      ],
      "metadata": {
        "id": "Y7XaGT1Wi7QC",
        "colab": {
          "base_uri": "https://localhost:8080/"
        },
        "outputId": "d517e07c-111c-4876-c85c-873ab6081811"
      },
      "execution_count": null,
      "outputs": [
        {
          "output_type": "stream",
          "name": "stdout",
          "text": [
            "BMI Calculator\n",
            "Enter weight(in kg):60\n",
            "Enter height(in mtr):5\n",
            "Your bmi is 0.2\n"
          ]
        }
      ]
    },
    {
      "cell_type": "code",
      "source": [
        "#7\n",
        "'''A store offers a 10% discount on every item. Write a program that takes the original price\n",
        "and prints the discounted price.\n",
        "Sample Input:\n",
        "Original price: 1200\n",
        "Sample Output:\n",
        "Discounted Price: 1080.0'''\n",
        "\n",
        "\n",
        "print(\"Discount Calculator\")\n",
        "ogprice = int(input(\"the Orginal input price:\"))\n",
        "dis = ogprice -(ogprice * 10/100)\n",
        "print(dis)"
      ],
      "metadata": {
        "colab": {
          "base_uri": "https://localhost:8080/"
        },
        "id": "FqtYE8Ue63C_",
        "outputId": "5344c4da-6995-4145-f762-7253da2de8cf"
      },
      "execution_count": null,
      "outputs": [
        {
          "output_type": "stream",
          "name": "stdout",
          "text": [
            "Discount Calculator\n",
            "the Orginal input price:1200\n",
            "1080.0\n"
          ]
        }
      ]
    },
    {
      "cell_type": "code",
      "source": [
        "\n",
        "#8\n",
        "'''Area of a Triangle (Using Heron’s Formula)\n",
        "A land surveyor wants to calculate the area of an irregular triangular plot.\n",
        "Write a Python program to find the area of a triangle when all three sides are known,\n",
        "using Heron’s formula:\n",
        "𝑠 =\n",
        "𝑎 + 𝑏 + 𝑐\n",
        "2\n",
        "Area = √𝑠(𝑠 − 𝑎)(𝑠 − 𝑏)(𝑠 − 𝑐)\n",
        "Sample Input:\n",
        "Enter side a: 5\n",
        "Enter side b: 6\n",
        "Enter side c: 7\n",
        "Sample Output:\n",
        "Area of the triangle: 14.70'''\n",
        "\n",
        "import math\n",
        "print(\"traingle area calculator\")\n",
        "a = float(input(\"enter side a:\"))\n",
        "b = float(input(\"enter side b:\"))\n",
        "c = float(input(\"enter side c:\"))\n",
        "s = (a+b+c)/2\n",
        "area = math.sqrt(s*(s-a)*(s-b)*(s-c))\n",
        "print(area)"
      ],
      "metadata": {
        "colab": {
          "base_uri": "https://localhost:8080/"
        },
        "id": "XAQzviwL7ifd",
        "outputId": "89758518-d58e-4173-dbb6-9cc021474019"
      },
      "execution_count": null,
      "outputs": [
        {
          "output_type": "stream",
          "name": "stdout",
          "text": [
            "traingle area calculator\n",
            "enter side a:5\n",
            "enter side b:6\n",
            "enter side c:7\n",
            "14.696938456699069\n"
          ]
        }
      ]
    },
    {
      "cell_type": "code",
      "source": [
        "\n",
        "#9\n",
        "'''A painter charges ₹25 per square meter. Write a program to calculate the total cost to\n",
        "paint a rectangular wall. The wall has length and height, and there are two windows each\n",
        "measuring 1.5m × 1.2m that should not be painted. Find the total area to be painted and\n",
        "its total cost.\n",
        "Sample Input:\n",
        "Enter wall length (in meters): 12\n",
        "Enter wall height (in meters): 8\n",
        "Sample Output:\n",
        "Total area to be painted: 91.6 sq.m\n",
        "Total painting cost: ₹2290.0'''\n",
        "\n",
        "print(\"Paint Cost Estimator\")\n",
        "l = float(input(\"Enter length of the wall:\"))\n",
        "b = float(input(\"Enter breadth of the wall:\"))\n",
        "area = l * b\n",
        "area_w = 2*(1.5 * 1.2)\n",
        "paint = area - area_w\n",
        "print(paint,\"sq.m\")\n",
        "cost = paint * 25\n",
        "print(cost)"
      ],
      "metadata": {
        "colab": {
          "base_uri": "https://localhost:8080/"
        },
        "id": "Mz0AF0Cx9GHd",
        "outputId": "5f81f404-62ad-4e33-a98e-df2c570e9064"
      },
      "execution_count": null,
      "outputs": [
        {
          "output_type": "stream",
          "name": "stdout",
          "text": [
            "Paint Cost Estimator\n",
            "Enter length of the wall:12\n",
            "Enter breadth of the wall:8\n",
            "92.4 sq.m\n",
            "2310.0\n"
          ]
        }
      ]
    },
    {
      "cell_type": "code",
      "source": [
        "#10\n",
        "'''An electricity board charges consumers based on unit consumption. The rate per unit is\n",
        "₹5.2. Additionally, there is a fixed charge of ₹100 on every bill. Write a Python program\n",
        "that takes the number of units consumed and calculates the total bill amount.\n",
        "Sample Input:\n",
        "Enter number of units consumed: 250\n",
        "Sample Output:\n",
        "Electricity Bill: ₹1400.0'''\n",
        "\n",
        "\n",
        "\n",
        "print(\"Electricity bill calculator\")\n",
        "unit = int(input(\"Enter the number of units consumed:\"))\n",
        "cost = unit * 5.2\n",
        "print(\"The electricity bill is\",cost)\n",
        "total = cost + 100\n",
        "print(\"The total bill with fixed charge is\",total)"
      ],
      "metadata": {
        "colab": {
          "base_uri": "https://localhost:8080/"
        },
        "id": "clATz3ef-Gqb",
        "outputId": "6e14b643-2152-4cf5-ea84-e0543dff145f"
      },
      "execution_count": null,
      "outputs": [
        {
          "output_type": "stream",
          "name": "stdout",
          "text": [
            "Electricity bill calculator\n",
            "Enter the number of units consumed:250\n",
            "The electricity bill is 1300.0\n",
            "The total bill with fixed charge is 1400.0\n"
          ]
        }
      ]
    },
    {
      "cell_type": "code",
      "source": [],
      "metadata": {
        "id": "4O28edybBSDH"
      },
      "execution_count": null,
      "outputs": []
    }
  ]
}